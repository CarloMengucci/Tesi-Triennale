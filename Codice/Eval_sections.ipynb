{
 "metadata": {
  "name": "",
  "signature": "sha256:1bade1412ebf43b2ce741a537b9853d405b0fea97cd25d4e26a64eaaae22666f"
 },
 "nbformat": 3,
 "nbformat_minor": 0,
 "worksheets": [
  {
   "cells": [
    {
     "cell_type": "code",
     "collapsed": false,
     "input": [
      "from __future__ import division\n",
      "import pylab as plt\n",
      "import numpy as np\n",
      "import scipy as sp\n",
      "import scipy.stats as st\n",
      "import pandas as pd\n",
      "import sklearn\n",
      "import patsy\n",
      "from sklearn.linear_model import LinearRegression\n",
      "import seaborn as sns\n",
      "from sklearn.cross_validation import train_test_split\n",
      "from patsy import dmatrices, dmatrix\n",
      "from sklearn.cross_validation import cross_val_score\n",
      "from scipy.stats.mstats import rankdata"
     ],
     "language": "python",
     "metadata": {},
     "outputs": [],
     "prompt_number": 1
    },
    {
     "cell_type": "code",
     "collapsed": false,
     "input": [
      "#generatore di popolazione, intera e filtrata con relativo subsample \n",
      "def pop_gen(slice_percent):\n",
      "    \n",
      "    n=1000\n",
      "    x1 = plt.randn(n)\n",
      "    x2 = plt.randn(n)\n",
      "    x3 = plt.randn(n)\n",
      "    y = x1+0.1*x1**2+x2*x3+plt.randn(n)\n",
      "    \n",
      "    \n",
      "        \n",
      "    data = pd.DataFrame({'x1':x1, 'x2':x2,'x3':x3, 'y':y})\n",
      "    \n",
      "    percentiles=(rankdata(y).astype(float)/len(y))\n",
      "    \n",
      "    y_index = (percentiles>slice_percent/2.0)&(percentiles<1.0-slice_percent/2.0)        \n",
      "    \n",
      "    y_slice = y[y_index]\n",
      "          \n",
      "    x1_slice=x1[y_index]\n",
      "    x2_slice=x2[y_index]\n",
      "    x3_slice=x3[y_index]\n",
      "\n",
      "    data_s = pd.DataFrame({'x1':x1_slice, 'x2':x2_slice,'x3':x3_slice, 'y':y_slice})\n",
      "    \n",
      "    data_r_idx,_=train_test_split(arange(len(data)),train_size=len(data_s))\n",
      "    data_r=data.loc[data_r_idx]\n",
      "    #data_r=data.iloc[:len(data_s)]\n",
      "    return (data_r,data_s)"
     ],
     "language": "python",
     "metadata": {},
     "outputs": [],
     "prompt_number": 2
    },
    {
     "cell_type": "code",
     "collapsed": false,
     "input": [
      "#righe di controllo per il corretto funzionamento della generazione di popolazioni sintetiche\n",
      "a, b = pop_gen(0.5)\n",
      "assert len(a) == len(b)\n",
      "print(len(a))\n",
      "\n",
      "f=plt.figure(figsize=(8,5))\n",
      "\n",
      "f,(ax1)=plt.subplots(1,1)\n",
      "\n",
      "ax1.hist(a.y.values,alpha=0.5)\n",
      "ax1.hist(b.y.values,alpha=0.5)\n",
      "\n",
      "\n",
      "\n",
      "\n"
     ],
     "language": "python",
     "metadata": {},
     "outputs": []
    },
    {
     "cell_type": "code",
     "collapsed": false,
     "input": [],
     "language": "python",
     "metadata": {},
     "outputs": []
    },
    {
     "cell_type": "code",
     "collapsed": false,
     "input": [
      "#Elaboratore di modelli sotto forma di dmatrices\n",
      "def model_builder(formula,data):\n",
      "    outcome,predictors=dmatrices(formula,data)\n",
      "    return (outcome,predictors)"
     ],
     "language": "python",
     "metadata": {},
     "outputs": [],
     "prompt_number": 3
    },
    {
     "cell_type": "code",
     "collapsed": false,
     "input": [
      "#funzione che ritorna il regressore e il relativo score, utilizzabile successivamente sul validation set\n",
      "def pop_fit(outcome,predictors):\n",
      "    \n",
      "    \n",
      "    linreg=LinearRegression(fit_intercept=False)\n",
      "    \n",
      "    score=cross_val_score(linreg,predictors,outcome,cv=10)\n",
      "    score_mean=np.mean(score)\n",
      "    L_90=int(len(outcome)*0.9)\n",
      "    \n",
      "    regressor=linreg.fit(predictors[:L_90],outcome[:L_90])\n",
      "    \n",
      "    \n",
      "    return(regressor,score_mean)\n",
      "    \n"
     ],
     "language": "python",
     "metadata": {},
     "outputs": [],
     "prompt_number": 4
    },
    {
     "cell_type": "code",
     "collapsed": false,
     "input": [
      "#Guardare file Results_sorter per esempio di elaborazione funzioni\n"
     ],
     "language": "python",
     "metadata": {},
     "outputs": []
    },
    {
     "cell_type": "code",
     "collapsed": false,
     "input": [
      "#inizio della sezione di caratterizzazione dei dati\n",
      "\n",
      "\n",
      "#Funziona che ritorna i parametri calcolati dal regressore per il modello\n",
      "def params_get(ent_pop,sl_pop,formula):\n",
      "    \n",
      "\n",
      "    ent_outcome,ent_predictors=model_builder(formula,ent_pop)\n",
      "    sl_outcome,sl_predictors=model_builder(formula,sl_pop)\n",
      "    \n",
      "    ent_regressor,_=pop_fit(ent_outcome,ent_predictors)\n",
      "    sl_regressor,_=pop_fit(sl_outcome,sl_predictors)\n",
      "    \n",
      "    ent_col_idx=ent_predictors.design_info.column_names\n",
      "    sl_col_idx=sl_predictors.design_info.column_names\n",
      "    \n",
      "    ent_params=ent_regressor.coef_.flatten()\n",
      "    sliced_params=sl_regressor.coef_.flatten()\n",
      "    \n",
      "    \n",
      "    ent_params_list=pd.Series(ent_params,index=ent_col_idx)\n",
      "    sliced_params_list=pd.Series(sliced_params,index=sl_col_idx)\n",
      "  \n",
      "    return(ent_params_list,sliced_params_list)\n"
     ],
     "language": "python",
     "metadata": {},
     "outputs": [],
     "prompt_number": 5
    },
    {
     "cell_type": "code",
     "collapsed": false,
     "input": [
      "Formula=\"y~x2*x3+I(x1**2)+x1\"\n",
      "\n",
      "entire_pop,sliced_pop=pop_gen(0.0)\n",
      "    \n",
      "ent_params,sliced_params=params_get(entire_pop,sliced_pop,Formula)\n",
      "\n",
      "sliced_params"
     ],
     "language": "python",
     "metadata": {},
     "outputs": [
      {
       "metadata": {},
       "output_type": "pyout",
       "prompt_number": 6,
       "text": [
        "Intercept    -0.019784\n",
        "x2           -0.067240\n",
        "x3            0.013124\n",
        "x2:x3         1.002997\n",
        "I(x1 ** 2)    0.083924\n",
        "x1            1.028252\n",
        "dtype: float64"
       ]
      }
     ],
     "prompt_number": 6
    },
    {
     "cell_type": "code",
     "collapsed": false,
     "input": [
      "#Confronto fra i parametri calcolati da database intero e da tagliato con relativa elaborazione grafica\n",
      "\n",
      "ent_params_arr=[]\n",
      "sliced_params_arr=[]\n",
      "labels=ent_params.index\n",
      "\n",
      "for i in range (100):\n",
      "    Formula=\"y~x2*x3+I(x1**2)+x1\"\n",
      "\n",
      "    entire_pop,sliced_pop=pop_gen(0.3)\n",
      "    \n",
      "    ent_params,sliced_params=params_get(entire_pop,sliced_pop,Formula)\n",
      "\n",
      "    ent_params_arr.append(ent_params.values)\n",
      "    sliced_params_arr.append(sliced_params.values)\n",
      "    \n",
      "\n",
      "np_ent_params_arr=np.asarray(ent_params_arr)\n",
      "np_sliced_params_arr=np.asarray(sliced_params_arr)\n",
      "\n",
      "ent_data=np_ent_params_arr.flatten()"
     ],
     "language": "python",
     "metadata": {},
     "outputs": [],
     "prompt_number": 9
    },
    {
     "cell_type": "code",
     "collapsed": false,
     "input": [
      "\n",
      "plt.figure(figsize=(8,5))\n",
      "plt.title('Estimated Parameters From Entire and Sliced Datasets Tendencies' )\n",
      "\n",
      "for i,color in zip (range(6),['blue','green','black','yellow','cyan','purple']):\n",
      "    \n",
      "    real=np_ent_params_arr[:,i]\n",
      "    est=np_sliced_params_arr[:,i]\n",
      "    \n",
      "    g_labels=labels[i]\n",
      "    \n",
      "    plt.scatter(real,est,label=g_labels,color=color)\n",
      "    \n",
      "sns.regplot(ent_data,ent_data,scatter=False,ci=95,color='red', label='Ideal Tendency')\n",
      "\n",
      "plt.legend(loc='upper left')\n",
      "plt.ylabel('Sliced Datasets estimated Parameters')\n",
      "plt.xlabel('Entire Datasets estimated Parameters')"
     ],
     "language": "python",
     "metadata": {},
     "outputs": [
      {
       "metadata": {},
       "output_type": "pyout",
       "prompt_number": 10,
       "text": [
        "<matplotlib.text.Text at 0x112147590>"
       ]
      },
      {
       "metadata": {},
       "output_type": "display_data",
       "png": "[encoded data removed]",
       "text": [
        "<matplotlib.figure.Figure at 0x11215df50>"
       ]
      }
     ],
     "prompt_number": 10
    },
    {
     "cell_type": "code",
     "collapsed": false,
     "input": [
      "#Calcolo dell'incertezza sul metodo lineare, attraverso metodi di bootstrap\n",
      "res = []\n",
      "for i in range(1000):\n",
      "   idx = np.random.randint(0, 99, size=100)\n",
      "   data_bs = data.iloc[idx]\n",
      "   Y_bs, X_bs = patsy.dmatrices('y~x', data_bs)\n",
      "   linreg.fit(X_bs, Y_bs)\n",
      "   serie = pd.Series(linreg.coef_.ravel(),\n",
      "   index=X_bs.design_info.column_names)\n",
      "   res.append(serie)\n",
      "\n",
      "res = pd.DataFrame(res)\n",
      "res.std()\n"
     ],
     "language": "python",
     "metadata": {},
     "outputs": []
    }
   ],
   "metadata": {}
  }
 ]
}